{
 "cells": [
  {
   "cell_type": "code",
   "execution_count": 20,
   "metadata": {},
   "outputs": [],
   "source": [
    "import json \n",
    "import numpy as np\n",
    "import pandas as pd\n",
    "import matplotlib.pyplot as plt\n",
    "from nltk.sentiment.vader import SentimentIntensityAnalyzer\n",
    "from pyspark.sql import SQLContext, Row\n",
    "from pyspark.sql.types import StructType, StructField, FloatType, LongType, StringType, BooleanType, IntegerType, DateType, ArrayType\n",
    "from pyspark.sql.functions import col, split, explode, desc\n",
    "\n",
    "sqlContext = SQLContext(sc)\n",
    "\n",
    "# Create schema for the date\n",
    "schema = StructType([StructField(\"date\", DateType(), True), \n",
    "                     StructField(\"lead_paragraph\", StringType(), True)])\n",
    "\n",
    "# Load from hdfs\n",
    "df = sqlContext.read.csv(\"hdfs://orion11:15001/sample_nytimes.csv\",schema=schema, sep=\"\\t\");\n",
    "\n",
    "## Betty's links\n",
    "## bigget sample: hdfs://orion11:32001/final/bigger_sample.csv\n",
    "## all data:   hdfs://orion11:32001/nytimes_lead_paragraphs_Sep-1851-July-2017.csv\n",
    "##movie data: hdfs://orion11:32001/final/title.basics.tsv"
   ]
  },
  {
   "cell_type": "code",
   "execution_count": 21,
   "metadata": {},
   "outputs": [],
   "source": [
    "def sentiment_analyzer_scores(sentence):\n",
    "    score = analyser.polarity_scores(sentence)\n",
    "    return str(score)"
   ]
  },
  {
   "cell_type": "code",
   "execution_count": 22,
   "metadata": {},
   "outputs": [
    {
     "name": "stdout",
     "output_type": "stream",
     "text": [
      "5294.242300000068\n"
     ]
    }
   ],
   "source": [
    "### Sentiment for 1930's\n",
    "\n",
    "# Get DF\n",
    "df.createOrReplaceTempView(\"TEMP_DF\")\n",
    "df_1930 = spark.sql(\"\"\"select * from TEMP_DF WHERE temp_df.date LIKE '193%'\"\"\")\n",
    "\n",
    "#build sentimental analysis\n",
    "analyser = SentimentIntensityAnalyzer()\n",
    "\n",
    "\n",
    "\n",
    "pand = df_1930.toPandas()\n",
    "pand['analysis'] = pand['lead_paragraph'].apply(sentiment_analyzer_scores)\n",
    "pand = pand.drop(columns=['lead_paragraph'])\n",
    "\n",
    "pand.iloc[:4]\n",
    "\n",
    "\n",
    "#count neg and pos for each year\n",
    "answer = []\n",
    "\n",
    "for row in pand.itertuples():\n",
    "    rows = row.analysis\n",
    "    rows = rows.replace(\"'\",'\"') \n",
    "    data = json.loads(rows)\n",
    "    columns = list(data.keys())\n",
    "    values = list(data.values())\n",
    "    arr_len = len(values)\n",
    "\n",
    "    res = pd.DataFrame(np.array(values, dtype=object).reshape(1, arr_len), columns=columns)\n",
    "    answer.append(res)\n",
    "    \n",
    "news_1930 = pd.concat(answer)\n",
    "sentiment_1930 = news_1930.sum(axis = 0, skipna = True)[\"compound\"]\n",
    "print(sentiment_1930)"
   ]
  },
  {
   "cell_type": "code",
   "execution_count": 23,
   "metadata": {},
   "outputs": [
    {
     "name": "stdout",
     "output_type": "stream",
     "text": [
      "3467.3983999999605\n"
     ]
    }
   ],
   "source": [
    "### Sentiment for 1960's\n",
    "\n",
    "# Get DF\n",
    "df.createOrReplaceTempView(\"TEMP_DF\")\n",
    "df_1960 = spark.sql(\"\"\"select * from TEMP_DF WHERE temp_df.date LIKE '196%'\"\"\")\n",
    "\n",
    "#build sentimental analysis\n",
    "analyser = SentimentIntensityAnalyzer()\n",
    "\n",
    "\n",
    "\n",
    "pand = df_1960.toPandas()\n",
    "pand['analysis'] = pand['lead_paragraph'].apply(sentiment_analyzer_scores)\n",
    "pand = pand.drop(columns=['lead_paragraph'])\n",
    "\n",
    "pand.iloc[:4]\n",
    "\n",
    "\n",
    "#count neg and pos for each year\n",
    "answer = []\n",
    "\n",
    "for row in pand.itertuples():\n",
    "    rows = row.analysis\n",
    "    rows = rows.replace(\"'\",'\"') \n",
    "    data = json.loads(rows)\n",
    "    columns = list(data.keys())\n",
    "    values = list(data.values())\n",
    "    arr_len = len(values)\n",
    "\n",
    "    res = pd.DataFrame(np.array(values, dtype=object).reshape(1, arr_len), columns=columns)\n",
    "    answer.append(res)\n",
    "    \n",
    "news_1960 = pd.concat(answer)\n",
    "sentiment_1960 = news_1960.sum(axis = 0, skipna = True)[\"compound\"]\n",
    "print(sentiment_1960)"
   ]
  },
  {
   "cell_type": "code",
   "execution_count": 24,
   "metadata": {},
   "outputs": [
    {
     "name": "stdout",
     "output_type": "stream",
     "text": [
      "5333.998900000031\n"
     ]
    }
   ],
   "source": [
    "### Sentiment for 1990's\n",
    "\n",
    "# Get DF\n",
    "df.createOrReplaceTempView(\"TEMP_DF\")\n",
    "df_1990 = spark.sql(\"\"\"select * from TEMP_DF WHERE temp_df.date LIKE '199%'\"\"\")\n",
    "\n",
    "#build sentimental analysis\n",
    "analyser = SentimentIntensityAnalyzer()\n",
    "\n",
    "\n",
    "\n",
    "pand = df_1990.toPandas()\n",
    "pand['analysis'] = pand['lead_paragraph'].apply(sentiment_analyzer_scores)\n",
    "pand = pand.drop(columns=['lead_paragraph'])\n",
    "\n",
    "pand.iloc[:4]\n",
    "\n",
    "\n",
    "#count neg and pos for each year\n",
    "answer = []\n",
    "\n",
    "for row in pand.itertuples():\n",
    "    rows = row.analysis\n",
    "    rows = rows.replace(\"'\",'\"') \n",
    "    data = json.loads(rows)\n",
    "    columns = list(data.keys())\n",
    "    values = list(data.values())\n",
    "    arr_len = len(values)\n",
    "\n",
    "    res = pd.DataFrame(np.array(values, dtype=object).reshape(1, arr_len), columns=columns)\n",
    "    answer.append(res)\n",
    "    \n",
    "news_1990 = pd.concat(answer)\n",
    "sentiment_1990 = news_1990.sum(axis = 0, skipna = True)[\"compound\"]\n",
    "print(sentiment_1990)"
   ]
  },
  {
   "cell_type": "code",
   "execution_count": 25,
   "metadata": {},
   "outputs": [],
   "source": [
    "## Betty's path\n",
    "## hdfs://orion11:32001/final/title.basics.tsv\n",
    "\n",
    "# tconst titleType primaryTitle originalTitle isAdult startYear endYear runtimeMinutes genres\n",
    "movie_schema = StructType([StructField(\"tconst\", StringType(), True), \n",
    "                           StructField(\"titleType\", StringType(), True),\n",
    "                           StructField(\"primaryTitle\", StringType(), True), \n",
    "                           StructField(\"originalTitle\", StringType(), True),\n",
    "                           StructField(\"isAdult\", StringType(), True),\n",
    "                           StructField(\"startYear\", StringType(), True), \n",
    "                           StructField(\"endYear\", StringType(), True),\n",
    "                           StructField(\"runtimeMinutes\", IntegerType(), True),\n",
    "                           StructField(\"genres\", StringType(), True)])\n",
    "\n",
    "\n",
    "\n",
    "movies_df = sqlContext.read.csv(\"hdfs://orion11:15001/imdb_data.tsv\",schema=movie_schema, header=True, sep=\"\\t\");"
   ]
  },
  {
   "cell_type": "code",
   "execution_count": 35,
   "metadata": {},
   "outputs": [
    {
     "name": "stdout",
     "output_type": "stream",
     "text": [
      "+------+-----+\n",
      "|genres|count|\n",
      "+------+-----+\n",
      "| Short| 8807|\n",
      "| Drama| 8401|\n",
      "|Comedy| 7883|\n",
      "+------+-----+\n",
      "only showing top 3 rows\n",
      "\n"
     ]
    }
   ],
   "source": [
    "# Top generes for the 1930's\n",
    "\n",
    "movies_1930 = movies_df.filter(\"startYear like '193%'\").select(\"startYear\", \"endYear\", \"genres\")\n",
    "\n",
    "# Apparently the /N is a pain to handle. Need to use SQL\n",
    "movies_1930.createOrReplaceTempView(\"MOV_DF\")\n",
    "movies_1930 = spark.sql(\"\"\"select MOV_DF.genres, MOV_DF.startYear, MOV_DF.endYear from MOV_DF WHERE MOV_DF.genres NOT LIKE '%\\\\N%'\"\"\")\n",
    "\n",
    "movies_1930 = movies_1930.withColumn('genres',explode(split('genres',',')))\n",
    "\n",
    "movies_1930 = movies_1930.groupBy(\"genres\").count().sort(\"count\", ascending=False)\n",
    "genres_1930  = movies_1930.limit(3).select('genres').rdd.flatMap(lambda x: x).collect()\n",
    "movies_1930.show(3)"
   ]
  },
  {
   "cell_type": "code",
   "execution_count": 36,
   "metadata": {},
   "outputs": [
    {
     "name": "stdout",
     "output_type": "stream",
     "text": [
      "+------+-----+\n",
      "|genres|count|\n",
      "+------+-----+\n",
      "| Drama|59220|\n",
      "|Comedy|42929|\n",
      "|Family|27969|\n",
      "+------+-----+\n",
      "only showing top 3 rows\n",
      "\n"
     ]
    }
   ],
   "source": [
    "# Top generes for the 1960's\n",
    "\n",
    "movies_1960 = movies_df.filter(\"startYear like '196%'\").select(\"startYear\", \"endYear\", \"genres\")\n",
    "\n",
    "# Apparently the /N is a pain to handle. Need to use SQL\n",
    "movies_1960.createOrReplaceTempView(\"MOV_DF\")\n",
    "movies_1960 = spark.sql(\"\"\"select MOV_DF.genres, MOV_DF.startYear, MOV_DF.endYear from MOV_DF WHERE MOV_DF.genres NOT LIKE '%\\\\N%'\"\"\")\n",
    "\n",
    "movies_1960 = movies_1960.withColumn('genres',explode(split('genres',',')))\n",
    "\n",
    "movies_1960 = movies_1960.groupBy(\"genres\").count().sort(\"count\", ascending=False)\n",
    "genres_1960  = movies_1960.limit(3).select('genres').rdd.flatMap(lambda x: x).collect()\n",
    "movies_1960.show(3)"
   ]
  },
  {
   "cell_type": "code",
   "execution_count": 37,
   "metadata": {},
   "outputs": [
    {
     "name": "stdout",
     "output_type": "stream",
     "text": [
      "+-------+------+\n",
      "| genres| count|\n",
      "+-------+------+\n",
      "|  Drama|174942|\n",
      "| Comedy|127185|\n",
      "|Romance| 81793|\n",
      "+-------+------+\n",
      "only showing top 3 rows\n",
      "\n"
     ]
    }
   ],
   "source": [
    "# Top generes for the 1990's\n",
    "\n",
    "movies_1990 = movies_df.filter(\"startYear like '199%'\").select(\"startYear\", \"endYear\", \"genres\")\n",
    "\n",
    "# Apparently the /N is a pain to handle. Need to use SQL\n",
    "movies_1990.createOrReplaceTempView(\"MOV_DF\")\n",
    "movies_1990 = spark.sql(\"\"\"select MOV_DF.genres, MOV_DF.startYear, MOV_DF.endYear from MOV_DF WHERE MOV_DF.genres NOT LIKE '%\\\\N%'\"\"\")\n",
    "\n",
    "movies_1990 = movies_1990.withColumn('genres',explode(split('genres',',')))\n",
    "\n",
    "movies_1990 = movies_1990.groupBy(\"genres\").count().sort(\"count\", ascending=False)\n",
    "genres_1990  = movies_1990.limit(3).select('genres').rdd.flatMap(lambda x: x).collect()\n",
    "movies_1990.show(3)"
   ]
  },
  {
   "cell_type": "code",
   "execution_count": 38,
   "metadata": {},
   "outputs": [
    {
     "name": "stdout",
     "output_type": "stream",
     "text": [
      "[5294.242300000068, 3467.3983999999605, 5333.998900000031]\n",
      "['Short, Drama, Comedy', 'Drama, Comedy, Family', 'Drama, Comedy, Romance']\n"
     ]
    }
   ],
   "source": [
    "sentiment = [sentiment_1930, sentiment_1960, sentiment_1990]\n",
    "genres = [\", \".join(genres_1930), \", \".join(genres_1960), \", \".join(genres_1990)]\n",
    "\n",
    "print(sentiment)\n",
    "print(genres)\n"
   ]
  },
  {
   "cell_type": "code",
   "execution_count": 64,
   "metadata": {},
   "outputs": [
    {
     "data": {
      "image/png": "[encoded data removed]",
      "text/plain": [
       "<Figure size 432x288 with 1 Axes>"
      ]
     },
     "metadata": {
      "needs_background": "light"
     },
     "output_type": "display_data"
    }
   ],
   "source": [
    "# I know it goesn't look great...\n",
    "\n",
    "# Create plot\n",
    "fig, ax = plt.subplots()\n",
    "ax.bar([\", \".join(genres_1930)], [sentiment_1930], 10, color='blue',label=\"1930s\")\n",
    "ax.bar([\", \".join(genres_1960)], [sentiment_1960], 10, color='green',label=\"1960s\")\n",
    "ax.bar([\", \".join(genres_1990)],[sentiment_1990],  10, color='purple',label=\"1990s\")\n",
    "\n",
    "ax.legend(loc=\"upper right\")\n",
    "ax.set_ylabel('Sentiment Score')\n",
    "ax.set_xlabel('Top Genres')\n",
    "ax.set_title('Sentiment score by decade')\n",
    "ax.set_yticks(range(0, 7000, 1000))\n",
    "ax.set_xticks(genres)\n",
    "fig.savefig('sentiment_score_by_decade', dpi=300)"
   ]
  },
  {
   "cell_type": "markdown",
   "metadata": {},
   "source": []
  },
  {
   "cell_type": "code",
   "execution_count": null,
   "metadata": {},
   "outputs": [],
   "source": []
  }
 ],
 "metadata": {
  "kernelspec": {
   "display_name": "Python 3",
   "language": "python",
   "name": "python3"
  },
  "language_info": {
   "codemirror_mode": {
    "name": "ipython",
    "version": 3
   },
   "file_extension": ".py",
   "mimetype": "text/x-python",
   "name": "python",
   "nbconvert_exporter": "python",
   "pygments_lexer": "ipython3",
   "version": "3.7.3"
  }
 },
 "nbformat": 4,
 "nbformat_minor": 2
}
