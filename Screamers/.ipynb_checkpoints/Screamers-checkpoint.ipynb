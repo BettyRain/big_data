{
 "cells": [
  {
   "cell_type": "markdown",
   "metadata": {},
   "source": [
    "# Screamers\n",
    "Screamers: It is well known that WRITING IN ALL CAPS ONLINE IS A SUBSTITUTE FOR SCREAMING… OR YELLING. *cough!*. (Or some might say it’s simply cruise control for cooooool). Write a job to find users that scream a lot, and provide a screamer score (a highly-technical metric that you will invent).\n",
    "* For future reference (when we really want to get something off our chest), what are the top 5 subreddits for scream-y comments?"
   ]
  },
  {
   "cell_type": "code",
   "execution_count": 3,
   "metadata": {},
   "outputs": [
    {
     "name": "stdout",
     "output_type": "stream",
     "text": [
      "+--------+------------------+--------------+----------------------+--------------------+--------------------+---------+----------------+-------+-----------+-------------+-----+------+------+-------+---------+-----------+----+----------+-------+------------+-----+-----+------------+--------+---------+------------+----+------------+\n",
      "|archived|            author|author_cakeday|author_flair_css_class|   author_flair_text|                body|body_html|controversiality|created|created_utc|distinguished|downs|edited|gilded|     id|  link_id|mod_reports|name| parent_id|replies|retrieved_on|saved|score|score_hidden|stickied|subreddit|subreddit_id| ups|user_reports|\n",
      "+--------+------------------+--------------+----------------------+--------------------+--------------------+---------+----------------+-------+-----------+-------------+-----+------+------+-------+---------+-----------+----+----------+-------+------------+-----+-----+------------+--------+---------+------------+----+------------+\n",
      "|    null|           HiddenA|          null|                  null|                null|Read that in coll...|     null|               0|   null| 1477034899|         null| null| false|     0|d91hsgf|t3_58l45o|       null|null|t1_d91h4eo|   null|  1478770196| null|    6|        null|   false|AskReddit|    t5_2qh1i|null|        null|\n",
      "|    null|           Strykah|          null|                  null|                null|Yeah region locki...|     null|               0|   null| 1477034973|         null| null| false|     0|d91htbc|t3_58kwj6|       null|null|t1_d91g062|   null|  1478770208| null|    5|        null|   false|    Games|    t5_2qhwp|null|        null|\n",
      "|    null|CharlesDickensABox|          null|  texasam2-sheet1-r...|Texas A&amp;M Agg...|That looked like ...|     null|               0|   null| 1477035029|         null| null| false|     0|d91htxp|t3_58l9bi|       null|null|t1_d91govu|   null|  1478770217| null|    8|        null|   false|      CFB|    t5_2qm9d|null|        null|\n",
      "|    null|       TacoBenderz|          null|                  null|                null|Russia has had 3 ...|     null|               1|   null| 1477035096|         null| null| false|     0|d91hupy|t3_58k4yp|       null|null|t1_d9183k7|   null|  1478770227| null|    3|        null|   false|worldnews|    t5_2qh13|null|        null|\n",
      "+--------+------------------+--------------+----------------------+--------------------+--------------------+---------+----------------+-------+-----------+-------------+-----+------+------+-------+---------+-----------+----+----------+-------+------------+-----+-----+------------+--------+---------+------------+----+------------+\n",
      "only showing top 4 rows\n",
      "\n"
     ]
    }
   ],
   "source": [
    "import pandas as pd\n",
    "from pyspark.sql import SQLContext\n",
    "from pyspark.sql.types import StructType, StructField, FloatType, LongType, StringType\n",
    "\n",
    "sqlContext = SQLContext(sc)\n",
    "\n",
    "df = sqlContext.read.json(\"hdfs://orion11:15001/sampled_v3/*\")\n",
    "columns = [\n",
    "    \"distinguished\",\n",
    "    \"downs\",\n",
    "    \"created_utc\",\n",
    "    \"controversiality\",\n",
    "    \"edited\",\n",
    "    \"gilded\",\n",
    "    \"author_flair_css_class\",\n",
    "    \"id\",\n",
    "    \"author\",\n",
    "    \"retrieved_on\",\n",
    "    \"score_hidden\",\n",
    "    \"subreddit_id\",\n",
    "    \"score\",\n",
    "    \"name\",\n",
    "    \"author_flair_text\",\n",
    "    \"link_id\",\n",
    "    \"archived\",\n",
    "    \"ups\",\n",
    "    \"parent_id\",\n",
    "    \"subreddit\",\n",
    "    \"body\"]\n",
    "\n",
    "df.show(n=1)"
   ]
  },
  {
   "cell_type": "markdown",
   "metadata": {},
   "source": []
  }
 ],
 "metadata": {
  "kernelspec": {
   "display_name": "Python 3",
   "language": "python",
   "name": "python3"
  },
  "language_info": {
   "codemirror_mode": {
    "name": "ipython",
    "version": 3
   },
   "file_extension": ".py",
   "mimetype": "text/x-python",
   "name": "python",
   "nbconvert_exporter": "python",
   "pygments_lexer": "ipython3",
   "version": "3.7.3"
  }
 },
 "nbformat": 4,
 "nbformat_minor": 2
}
