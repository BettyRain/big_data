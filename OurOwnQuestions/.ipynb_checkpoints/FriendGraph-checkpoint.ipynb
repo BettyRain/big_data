{
 "cells": [
  {
   "cell_type": "markdown",
   "metadata": {},
   "source": [
    "# Now that you’ve found the answers to the questions above, design two of your own questions to answer. \n",
    "\n",
    "For the first question, I'm going to be looking for mentions of users in comments, to build a network of connected users, which I will then graph\n",
    "\n",
    "## Dependencies\n",
    "Note: this requires graphrames to do the pagerank. To use, simply add the flag `--packages graphframes:graphframes:0.7.0-spark2.4-s_2.11` when running pyspark"
   ]
  },
  {
   "cell_type": "code",
   "execution_count": 1,
   "metadata": {},
   "outputs": [],
   "source": [
    "import re\n",
    "import pandas as pd\n",
    "from graphframes import *\n",
    "from pyspark.sql import SQLContext\n",
    "from pyspark.sql.functions import udf, col, desc, explode, lower\n",
    "from pyspark.sql.types import StructType, StructField, FloatType, LongType, StringType, BooleanType, ArrayType\n",
    "\n",
    "sqlContext = SQLContext(sc)\n",
    "\n",
    "df = sqlContext.read.json(\"hdfs://orion11:15001/sampled_v3/*\")\n",
    "columns = [\n",
    "    \"distinguished\",\n",
    "    \"downs\",\n",
    "    \"created_utc\",\n",
    "    \"controversiality\",\n",
    "    \"edited\",\n",
    "    \"gilded\",\n",
    "    \"author_flair_css_class\",\n",
    "    \"id\",\n",
    "    \"author\",\n",
    "    \"retrieved_on\",\n",
    "    \"score_hidden\",\n",
    "    \"subreddit_id\",\n",
    "    \"score\",\n",
    "    \"name\",\n",
    "    \"author_flair_text\",\n",
    "    \"link_id\",\n",
    "    \"archived\",\n",
    "    \"ups\",\n",
    "    \"parent_id\",\n",
    "    \"subreddit\",\n",
    "    \"body\"]\n",
    "\n",
    "df = df.select(\"author\", \"body\", \"subreddit\")\n"
   ]
  },
  {
   "cell_type": "code",
   "execution_count": 2,
   "metadata": {},
   "outputs": [],
   "source": [
    "# A function to find a mention in a given comment\n",
    "def find_mention(val):\n",
    "    found = re.findall(\"/u/([a-z0-9_-]+)\", val)\n",
    "    \n",
    "    if not found:\n",
    "        return None\n",
    "    \n",
    "    return found\n",
    "\n",
    "mention_udf = udf(find_mention, ArrayType(StringType()))"
   ]
  },
  {
   "cell_type": "code",
   "execution_count": 3,
   "metadata": {},
   "outputs": [
    {
     "name": "stdout",
     "output_type": "stream",
     "text": [
      "+--------------------+--------------------+--------------------+--------------------+\n",
      "|              author|                body|           subreddit|             mention|\n",
      "+--------------------+--------------------+--------------------+--------------------+\n",
      "|  alabamasteamroller|/u/alabamasteamro...|          Silverbugs|[alabamasteamroller]|\n",
      "|       automoderator|Hello /u/azmolrj,...|              videos|           [azmolrj]|\n",
      "|coloureduncommonsbot|Here's what that ...|RocketLeagueExchange|           [krustek]|\n",
      "|              ruleiv|Hi /u/sd449.\n",
      "Your...|     gentlemanboners|             [sd449]|\n",
      "|coloureduncommonsbot|Here's what that ...|RocketLeagueExchange|           [krustek]|\n",
      "|     imagesofnetwork|[Original post](h...|         ImagesOfUSA|   [nebraskateacher]|\n",
      "|              hwsbot|* Username: seans...|        hardwareswap|      [10769, 10769]|\n",
      "|          turbochewy|&gt;before it tri...|      NintendoSwitch|        [eugenian64]|\n",
      "|        marco_santos|You should try as...|              soccer|          [kozeljko]|\n",
      "|        aftermoonset|  I like *The 400...|                 AMA|[hymnalstories, i...|\n",
      "|              oogtug|Battlefront is do...|                 PS4|            [jibler]|\n",
      "|              naelin|En mi caso llegar...|           argentina|    [mymindwontstop]|\n",
      "|           moviesbot|Here's where you ...|    MovieSuggestions|       [stevenviola]|\n",
      "|        hockeyawards|/u/TIFUByJoiningR...|        HockeyAwards|       [intensebeet]|\n",
      "|         ilostmypill|1 . /u/ilovelamp8...|            sgsflair|        [ilovelamp8]|\n",
      "|       lockeproposal|Hello, /u/shakeel...|             history|[shakeelmeo, shak...|\n",
      "|             hakuman|Because his \"take...|                 MMA|           [naridax]|\n",
      "|       automoderator|Hi /u/674-3393, y...|  PeopleFuckingDying|          [674-3393]|\n",
      "|   covered_in_quinoa|Like /u/brainless...|           JUSTNOMIL|[brainlesscollege...|\n",
      "|           legozebra|Thanks /u/sweepda...|           legotrade|        [sweepdaleg]|\n",
      "+--------------------+--------------------+--------------------+--------------------+\n",
      "only showing top 20 rows\n",
      "\n"
     ]
    }
   ],
   "source": [
    "# Finds the mentions\n",
    "df = df.withColumn(\"mention\", mention_udf(\"body\"))\n",
    "\n",
    "# filters out comments where there's no mention\n",
    "df = df.filter(col(\"mention\").isNotNull()) \n",
    "\n",
    "# Apparently we need to lowercase everything. Makes life easier later\n",
    "df = df.withColumn(\"author\", lower(col(\"author\")))\n",
    "df.show()"
   ]
  },
  {
   "cell_type": "code",
   "execution_count": 4,
   "metadata": {},
   "outputs": [],
   "source": [
    "# Now start to create the edges and verticies for a graphframe\n",
    "v = df.select(\"author\").withColumnRenamed(\"author\", \"id\")\n",
    "\n",
    "e = df.select(\"author\", \"mention\").withColumn(\"single_mention\", explode(\"mention\"))\n",
    "e = e.withColumnRenamed(\"author\", \"src\").withColumnRenamed(\"single_mention\", \"dst\").drop(\"mention\")\n",
    "# Note: should we remove self mentions?\n",
    "\n",
    "# Finally create the graph\n",
    "g = GraphFrame(v, e)"
   ]
  },
  {
   "cell_type": "code",
   "execution_count": null,
   "metadata": {},
   "outputs": [],
   "source": [
    "# Calculate pageRank. Note: This takes FOREVER!\n",
    "results = g.pageRank(resetProbability=0.15, maxIter=7)\n",
    "display(results.vertices)"
   ]
  },
  {
   "cell_type": "code",
   "execution_count": null,
   "metadata": {},
   "outputs": [],
   "source": [
    "# Save the pageRank, since it takes forever I don't want to have to run it multiple times\n",
    "# Save vertices and edges as Parquet to some location.\n",
    "g.vertices.write.parquet(\"hdfs://orion11:15001/gf/vertices\")\n",
    "g.edges.write.parquet(\"hdfs://orion11:15001/gf/edges\")\n",
    "\n",
    "# Load the vertices and edges back.\n",
    "sameV = sqlContext.read.parquet(\"hdfs://orion11:15001/gf/vertices\")\n",
    "sameE = sqlContext.read.parquet(\"hdfs://orion11:15001/gf/edges\")"
   ]
  },
  {
   "cell_type": "code",
   "execution_count": null,
   "metadata": {},
   "outputs": [],
   "source": [
    "results.vertices.show()"
   ]
  }
 ],
 "metadata": {
  "kernelspec": {
   "display_name": "Python 3",
   "language": "python",
   "name": "python3"
  },
  "language_info": {
   "codemirror_mode": {
    "name": "ipython",
    "version": 3
   },
   "file_extension": ".py",
   "mimetype": "text/x-python",
   "name": "python",
   "nbconvert_exporter": "python",
   "pygments_lexer": "ipython3",
   "version": "3.7.3"
  }
 },
 "nbformat": 4,
 "nbformat_minor": 2
}
