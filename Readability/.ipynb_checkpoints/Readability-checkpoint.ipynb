{
 "cells": [
  {
   "cell_type": "markdown",
   "metadata": {},
   "source": [
    "# Readability \n",
    "Write a job that computes Gunning Fog Index and Flesch-Kincaid Readability (both reading ease and grade level) of user comments. Then:\n",
    "* Choose a subreddit and plot the distribution of these scores.\n",
    "* Choose two subreddits focused on similar topics but with different views, e.g., /r/apple and /r/android. Use these metrics to compare the populations from both."
   ]
  },
  {
   "cell_type": "code",
   "execution_count": 144,
   "metadata": {},
   "outputs": [],
   "source": [
    "import re\n",
    "import textstat\n",
    "import pandas as pd\n",
    "from pyspark.sql import SQLContext\n",
    "from pyspark.sql.functions import udf, col, desc\n",
    "from pyspark.sql.types import StructType, StructField, FloatType, LongType, StringType, BooleanType\n",
    "\n",
    "sqlContext = SQLContext(sc)\n",
    "\n",
    "df = sqlContext.read.json(\"hdfs://orion11:15001/sampled_v3/*\")\n",
    "columns = [\n",
    "    \"distinguished\",\n",
    "    \"downs\",\n",
    "    \"created_utc\",\n",
    "    \"controversiality\",\n",
    "    \"edited\",\n",
    "    \"gilded\",\n",
    "    \"author_flair_css_class\",\n",
    "    \"id\",\n",
    "    \"author\",\n",
    "    \"retrieved_on\",\n",
    "    \"score_hidden\",\n",
    "    \"subreddit_id\",\n",
    "    \"score\",\n",
    "    \"name\",\n",
    "    \"author_flair_text\",\n",
    "    \"link_id\",\n",
    "    \"archived\",\n",
    "    \"ups\",\n",
    "    \"parent_id\",\n",
    "    \"subreddit\",\n",
    "    \"body\"]\n",
    "\n",
    "df = df.select(\"author\", \"body\", \"subreddit\")\n"
   ]
  },
  {
   "cell_type": "code",
   "execution_count": 145,
   "metadata": {},
   "outputs": [],
   "source": [
    "# Functions to calculate ____\n",
    "def call_gunning_fog(val):\n",
    "    return textstat.gunning_fog(val)\n",
    "\n",
    "def call_flesch_kincaid_level(val):\n",
    "    return textstat.flesch_kincaid_grade(val)\n",
    "\n",
    "def call_flesch_kincaid_ease(val):\n",
    "    return textstat.flesch_reading_ease(val)\n",
    "\n",
    "gf_index_udf = udf(call_gunning_fog, FloatType())\n",
    "fk_level_udf = udf(call_flesch_kincaid_level, FloatType())\n",
    "fk_ease_udf = udf(call_flesch_kincaid_ease, FloatType())"
   ]
  },
  {
   "cell_type": "code",
   "execution_count": 146,
   "metadata": {},
   "outputs": [
    {
     "name": "stdout",
     "output_type": "stream",
     "text": [
      "+------------------+--------------------+-----------------+--------+-------+--------+\n",
      "|            author|                body|        subreddit|gf_index|fk_ease|fk_level|\n",
      "+------------------+--------------------+-----------------+--------+-------+--------+\n",
      "|           HiddenA|Read that in coll...|        AskReddit|     2.8| 106.67|     0.1|\n",
      "|           Strykah|Yeah region locki...|            Games|   16.25|  66.75|    13.4|\n",
      "|CharlesDickensABox|That looked like ...|              CFB|     8.9|  89.08|     4.8|\n",
      "|       TacoBenderz|Russia has had 3 ...|        worldnews|    13.2|  63.02|    10.7|\n",
      "|           Cwood96|I missed this com...|              CFB|    5.66|  81.29|     3.7|\n",
      "|         azura1300|I think you will ...| SWGalaxyOfHeroes|   10.46|  83.49|     7.0|\n",
      "|          DaBear_s|- Throw health ou...|         CHIBears|    11.6|  63.02|    10.7|\n",
      "|          Narjinta|You poor little t...|              wow|     2.0|  83.32|     2.9|\n",
      "|     PigNamedBenis|They deleted two ...|       technology|    8.67|  73.17|     6.8|\n",
      "|           mytommy|Have you tried us...|             FIFA|     2.6|  90.26|     2.3|\n",
      "|          Wonton77|Friend of mine go...|              wow|    8.56|  82.14|     5.4|\n",
      "|       r_k_ologist|Everyone loves ca...|             PSVR|    9.07|  14.63|    12.7|\n",
      "|         [deleted]|           [removed]|Bottomless_Vixens|     0.4|  36.62|     8.4|\n",
      "|       thesilent30|I can't believe y...|         politics|   10.62|  66.07|     9.5|\n",
      "|              likk|it's mating dance...|       NatureGifs|   15.49|  59.98|    11.8|\n",
      "|         [deleted]|           [deleted]|           videos|     0.4|  36.62|     8.4|\n",
      "|         docmagoo2|If you're interes...|  britishproblems|   10.76|  60.65|     9.5|\n",
      "|        KrunoKruno|Yup! It's the Sup...|Moviesinthemaking|    9.07|  56.93|     6.8|\n",
      "|   TheSpellingGuru|When they say jet...|          ExoMars|     8.2|  67.25|     7.0|\n",
      "|  YoungsterJoey017|Not sprint. Veriz...|          Android|    9.07|  73.85|     4.5|\n",
      "+------------------+--------------------+-----------------+--------+-------+--------+\n",
      "only showing top 20 rows\n",
      "\n"
     ]
    }
   ],
   "source": [
    "df = df.withColumn(\"gf_index\", gf_index_udf(\"body\"))\n",
    "df = df.withColumn(\"fk_ease\", fk_ease_udf(\"body\"))\n",
    "df = df.withColumn(\"fk_level\", fk_level_udf(\"body\"))\n",
    "\n",
    "df.show()"
   ]
  },
  {
   "cell_type": "code",
   "execution_count": 147,
   "metadata": {},
   "outputs": [],
   "source": [
    "# now do the first part, chosing the gaming subreddit and plot it \n",
    "gaming_df = df.filter(\"subreddit = 'gaming'\")\n"
   ]
  },
  {
   "cell_type": "code",
   "execution_count": 148,
   "metadata": {},
   "outputs": [
    {
     "data": {
      "image/png": "[encoded data removed]",
      "text/plain": [
       "<Figure size 432x288 with 1 Axes>"
      ]
     },
     "metadata": {
      "needs_background": "light"
     },
     "output_type": "display_data"
    }
   ],
   "source": [
    "# Plots gf index, and saves the plot\n",
    "gf_sizes, gf_counts = gaming_df.select(\"gf_index\").rdd.flatMap(lambda x: x).histogram([2,4,8,16,32,64,128,258,512])\n",
    "\n",
    "pd_gf = pd.DataFrame(\n",
    "    list(zip(gf_sizes, gf_counts)), \n",
    "    columns=['Gunning Fog Index', 'frequency']\n",
    ").set_index('Gunning Fog Index')\n",
    "fig = pd_gf.plot(kind='bar').get_figure()\n",
    "fig.savefig('gf_index', dpi=300)"
   ]
  },
  {
   "cell_type": "code",
   "execution_count": 149,
   "metadata": {},
   "outputs": [
    {
     "data": {
      "image/png": "[encoded data removed]",
      "text/plain": [
       "<Figure size 432x288 with 1 Axes>"
      ]
     },
     "metadata": {
      "needs_background": "light"
     },
     "output_type": "display_data"
    }
   ],
   "source": [
    "# Plots fk ease, and saves the plot\n",
    "fk_ease_sizes, fk_ease_counts = gaming_df.select(\"fk_ease\").rdd.flatMap(lambda x: x).histogram([-1024, -512, -256, -128, -64, -32, -16, -8, -4, -2, 0, 2, 4, 8])\n",
    "\n",
    "pd_fk_ease = pd.DataFrame(\n",
    "    list(zip(fk_ease_sizes, fk_ease_counts)), \n",
    "    columns=['FK Ease', 'frequency']\n",
    ").set_index('FK Ease')\n",
    "fig = pd_fk_ease.plot(kind='bar').get_figure()\n",
    "fig.savefig('fk_ease', dpi=300)"
   ]
  },
  {
   "cell_type": "code",
   "execution_count": 150,
   "metadata": {},
   "outputs": [
    {
     "data": {
      "image/png": "[encoded data removed]",
      "text/plain": [
       "<Figure size 432x288 with 1 Axes>"
      ]
     },
     "metadata": {
      "needs_background": "light"
     },
     "output_type": "display_data"
    }
   ],
   "source": [
    "# Plots fk level, and saves the plot\n",
    "fk_level_sizes, fk_level_counts = gaming_df.select(\"fk_level\").rdd.flatMap(lambda x: x).histogram([-16,-8,-4,-2,0,2,4,8,16,32,64,128,258])\n",
    "\n",
    "pd_fk_level = pd.DataFrame(\n",
    "    list(zip(fk_level_sizes, fk_level_counts)), \n",
    "    columns=['FK Level', 'frequency']\n",
    ").set_index('FK Level')\n",
    "fig = pd_fk_level.plot(kind='bar').get_figure()\n",
    "fig.savefig('fk_level', dpi=300)"
   ]
  },
  {
   "cell_type": "markdown",
   "metadata": {},
   "source": [
    "## Distribution plot\n",
    "The above graphs show the distribution of Gunning Fog Index and Flesch-Kincaid Readability Reading Ease and Grade Level, for the gaming subreddit"
   ]
  },
  {
   "cell_type": "code",
   "execution_count": 151,
   "metadata": {},
   "outputs": [],
   "source": [
    "videos_df = df.filter(\"subreddit = 'videos'\")\n",
    "movies_df = df.filter(\"subreddit = 'movies'\")"
   ]
  },
  {
   "cell_type": "code",
   "execution_count": 154,
   "metadata": {},
   "outputs": [],
   "source": [
    "import matplotlib.pyplot as plt\n",
    "import numpy as np\n",
    "\n",
    "# now compare two subreddits (videos and movies) and graph compare them in a graph\n",
    "videos_sizes, videos_counts = videos_df.select(\"gf_index\").rdd.flatMap(lambda x: x).histogram([2,4,8,16,32,64,128,258])\n",
    "movies_sizes, movies_counts = movies_df.select(\"gf_index\").rdd.flatMap(lambda x: x).histogram([2,4,8,16,32,64,128,258])"
   ]
  },
  {
   "cell_type": "code",
   "execution_count": 157,
   "metadata": {},
   "outputs": [
    {
     "data": {
      "image/png": "[encoded data removed]",
      "text/plain": [
       "<Figure size 432x288 with 1 Axes>"
      ]
     },
     "metadata": {
      "needs_background": "light"
     },
     "output_type": "display_data"
    }
   ],
   "source": [
    "#makes the actual graph\n",
    "N = len(videos_counts)\n",
    "ind = np.arange(N)\n",
    "width = 1\n",
    "\n",
    "fig, ax = plt.subplots()\n",
    "ax.bar(ind+0.33, videos_counts, width/3, color='cornflowerblue',label='videos')\n",
    "ax.bar(ind, movies_counts, width/3, color='seagreen',label='movies')\n",
    "\n",
    "ax.legend(loc=\"upper right\")\n",
    "ax.set_ylabel('Num Comments')\n",
    "ax.set_xlabel('GF Index')\n",
    "ax.set_title('Comparison of two subreddits')\n",
    "ax.set_xticks(np.arange(N+1))\n",
    "ax.set_xticklabels(videos_sizes)\n",
    "fig.savefig('subreddit_comparison', dpi=300)"
   ]
  },
  {
   "cell_type": "markdown",
   "metadata": {},
   "source": [
    "## Comparison of two subreddits\n",
    "\n",
    "In the above figure, we compare to subreddits (videos and movies) to look at the difference in the Gunning Fog Index between the two. We observed that the gf index for the two is relatively similar, however the number of total comments for rideos is higher than the number of comments for movies. This was a challenge we faced in finding two similar subreddits, so that one did not completely drown out the other."
   ]
  },
  {
   "cell_type": "code",
   "execution_count": null,
   "metadata": {},
   "outputs": [],
   "source": []
  }
 ],
 "metadata": {
  "kernelspec": {
   "display_name": "Python 3",
   "language": "python",
   "name": "python3"
  },
  "language_info": {
   "codemirror_mode": {
    "name": "ipython",
    "version": 3
   },
   "file_extension": ".py",
   "mimetype": "text/x-python",
   "name": "python",
   "nbconvert_exporter": "python",
   "pygments_lexer": "ipython3",
   "version": "3.7.3"
  }
 },
 "nbformat": 4,
 "nbformat_minor": 2
}
